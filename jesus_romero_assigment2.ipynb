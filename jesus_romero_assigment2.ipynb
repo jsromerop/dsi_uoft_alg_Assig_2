{
  "nbformat": 4,
  "nbformat_minor": 0,
  "metadata": {
    "colab": {
      "provenance": [],
      "mount_file_id": "1jRZJSli0nAd_hhzglQcYAkQHZMMZFRXn",
      "authorship_tag": "ABX9TyO4hdzwZ5RdBpc+epB2vFWX",
      "include_colab_link": true
    },
    "kernelspec": {
      "name": "python3",
      "display_name": "Python 3"
    },
    "language_info": {
      "name": "python"
    }
  },
  "cells": [
    {
      "cell_type": "markdown",
      "metadata": {
        "id": "view-in-github",
        "colab_type": "text"
      },
      "source": [
        "<a href=\"https://colab.research.google.com/github/jsromerop/dsi_uoft_alg_Assig_2/blob/main/jesus_romero_assigment2.ipynb\" target=\"_parent\"><img src=\"https://colab.research.google.com/assets/colab-badge.svg\" alt=\"Open In Colab\"/></a>"
      ]
    },
    {
      "cell_type": "markdown",
      "source": [
        "\n",
        "\n",
        "---\n",
        "\n",
        "\n",
        "# **1. Paraphrase the problem in simple words.**\n",
        "\n",
        "\n",
        "You're given a tree, the job is to figure out if there are any repeated numbers in this tree. If you find the same number multiple times, you return the repeated number itself. if are multiple repeated numbers, then return the one closest to the top (root) of the tree. If all the numbers are unique, return -1.\n",
        "\n"
      ],
      "metadata": {
        "id": "-4tqQMYueBUw"
      }
    },
    {
      "cell_type": "markdown",
      "source": [
        "\n",
        "\n",
        "---\n",
        "\n",
        "# **2. Create 1 new example that demonstrates you understand the problem. Trace/walkthrough 1 example that your partner made and explain it.**\n",
        "\n",
        "**Example 1:**\n",
        "```\n",
        "        2\n",
        "      /   \\\n",
        "     3     9  \n",
        "    / \\   /\n",
        "   5   3  5  \n",
        "```\n",
        "\n",
        "\n",
        "\n",
        "Input = [2, 3, 9, 5, 3, 5]\n",
        "Output = 3\n"
      ],
      "metadata": {
        "id": "Gtw8dMlPcWHg"
      }
    },
    {
      "cell_type": "markdown",
      "source": [
        "\n",
        "\n",
        "---\n",
        "\n",
        "# **3. Copy the solution your partner wrote.**\n"
      ],
      "metadata": {
        "id": "DKm07Li7gkmc"
      }
    },
    {
      "cell_type": "code",
      "source": [
        "# Definition for a binary tree node.\n",
        "class TreeNode:\n",
        "  def __init__(self, val=0, left=None, right=None):\n",
        "      self.val = val\n",
        "      self.left = left\n",
        "      self.right = right\n",
        "\n",
        "def is_symmetric(root: TreeNode) -> int:\n",
        "    if not root:\n",
        "        return -1\n",
        "\n",
        "    def dfs(node, seen):\n",
        "        if not node:\n",
        "          return -1\n",
        "\n",
        "        if node.val in seen:\n",
        "          return node.val\n",
        "        seen.add(node.val)\n",
        "\n",
        "        left_result = dfs(node.left, seen)\n",
        "        right_result = dfs(node.right, seen)\n",
        "\n",
        "        if left_result != -1:\n",
        "          return left_result\n",
        "        if right_result != -1:\n",
        "          return right_result\n",
        "\n",
        "        return -1\n",
        "    return dfs(root, set())"
      ],
      "metadata": {
        "id": "WqNmxZyJgvkA"
      },
      "execution_count": 7,
      "outputs": []
    },
    {
      "cell_type": "code",
      "source": [
        "# Test cases\n",
        "\n",
        "root = TreeNode(2)\n",
        "root.left = TreeNode(3)\n",
        "root.right = TreeNode(9)\n",
        "root.left.left = TreeNode(5)\n",
        "root.left.right = TreeNode(3)\n",
        "root.right.left = TreeNode(5)\n",
        "\n",
        "\n",
        "result = is_symmetric(root)\n",
        "if result != -1:\n",
        "  print(\"The closest duplicate value to the root is:\", result)\n",
        "else:\n",
        "  print(\"No duplicate values found.\")"
      ],
      "metadata": {
        "colab": {
          "base_uri": "https://localhost:8080/"
        },
        "id": "PcXWB32ow4hG",
        "outputId": "d8ba00af-b503-4973-ecbc-f680ce03c7c1"
      },
      "execution_count": 10,
      "outputs": [
        {
          "output_type": "stream",
          "name": "stdout",
          "text": [
            "The closest duplicate value to the root is: 3\n"
          ]
        }
      ]
    },
    {
      "cell_type": "markdown",
      "source": [
        "\n",
        "\n",
        "---\n",
        "\n",
        "# **4. Explain why their solution works in your own words.**\n",
        "\n",
        "The code checks for duplicate values in a tree by using a depth-first search method. The algorithm begins at the root of the tree and proceeds downwards, keeping a record of the visited values in a set. If it encounters a value which is already present in the set, it implies that a duplicate exists, and that value is returned. Since the code systematically explores the tree, the first duplicate it finds and returns will be the one closest to the root. If the search completes without identifying any duplicates, it returns -1."
      ],
      "metadata": {
        "id": "aQVwnNvx9bHV"
      }
    },
    {
      "cell_type": "markdown",
      "source": [
        "\n",
        "\n",
        "---\n",
        "\n",
        "# **5. Explain the problem’s time and space complexity in your own words.**\n",
        "\n",
        "\n",
        "The time complexity of the code depends on the size of the tree. If the tree is large, the code will take longer to run as it needs to check every node for duplicates. We measure this time complexity in terms of O(N), where N is the number of nodes in the tree.\n",
        "\n",
        "The space complexity of the code depends on the amount of memory used. The code uses a set to keep track of the numbers it has seen. If there are many unique numbers in the tree, the set will be larger and require more memory. We also measure this space complexity in terms of O(N).\n",
        "\n"
      ],
      "metadata": {
        "id": "KEG_Ci2C_F7A"
      }
    },
    {
      "cell_type": "markdown",
      "source": [
        "\n",
        "\n",
        "---\n",
        "\n",
        "#**6. Critique your partner's solution, including explanation, if there is anything should be adjusted**\n",
        "\n",
        "\n",
        "In general is good, the only note it could be, rename the function from is_symmetric to something like find_closest_duplicate."
      ],
      "metadata": {
        "id": "7aV1fGcIBLvv"
      }
    }
  ]
}